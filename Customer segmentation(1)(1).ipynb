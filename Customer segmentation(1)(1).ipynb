{
 "cells": [
  {
   "cell_type": "markdown",
   "metadata": {},
   "source": [
    "# Data Science Project – Segmentazione della clientela usando Machine Learning in R"
   ]
  },
  {
   "cell_type": "markdown",
   "metadata": {},
   "source": [
    "in questo progetto verrà utilizzato una delle maggiori applicazioni di machine learning: la segmentazione dei clienti, che consiste nell' identificare, suddividere e raggruppare i propri utenti in specifici gruppi basati su caratteristiche comuni. Questa pratica consente una comunicazione più mirata, fatta di contenuti dinamici, personalizzati, pertinenti e tempestivi, che permettono di creare un rapporto one-to-one tra azienda e customer.\n",
    "\n",
    "La segmentazione dei clienti è una delle più importanti applicazioni del unsupervised machine learning. Usando tecniche di clustering, le imprese possono identificare i diversi segmenti di clienti. In questo progetto verrà utilizzato l’algoritmo chiamato K-means clustering, il quale è il principale algoritmo per il clustering di dataset non etichettato (unsupervised).\n",
    "\n",
    "Con il termine Clustering (in italiano « raggruppamento ») si denota un famiglia di metodi non supervisionati in grado di individuare raggruppamenti intrinseci cluster di pattern nello spazio multidimensionale e (di definire in corrispondenza di tali raggruppamenti le classi (incognite Il clustering ha applicazioni in numerose discipline pattern recognition machine learning computer vision data mining data base, e pertanto ha sempre ricevuto un notevole interesse\n",
    "\n"
   ]
  },
  {
   "cell_type": "markdown",
   "metadata": {},
   "source": [
    "<img src=\"cluster1.png\"> "
   ]
  },
  {
   "cell_type": "code",
   "execution_count": 3,
   "metadata": {},
   "outputs": [
    {
     "name": "stdout",
     "output_type": "stream",
     "text": [
      "'data.frame':\t200 obs. of  5 variables:\n",
      " $ CustomerID            : int  1 2 3 4 5 6 7 8 9 10 ...\n",
      " $ Gender                : Factor w/ 2 levels \"Female\",\"Male\": 2 2 1 1 1 1 1 1 2 1 ...\n",
      " $ Age                   : int  19 21 20 23 31 22 35 23 64 30 ...\n",
      " $ Annual.Income..k..    : int  15 15 16 16 17 17 18 18 19 19 ...\n",
      " $ Spending.Score..1.100.: int  39 81 6 77 40 76 6 94 3 72 ...\n"
     ]
    },
    {
     "data": {
      "text/html": [
       "<ol class=list-inline>\n",
       "\t<li>'CustomerID'</li>\n",
       "\t<li>'Gender'</li>\n",
       "\t<li>'Age'</li>\n",
       "\t<li>'Annual.Income..k..'</li>\n",
       "\t<li>'Spending.Score..1.100.'</li>\n",
       "</ol>\n"
      ],
      "text/latex": [
       "\\begin{enumerate*}\n",
       "\\item 'CustomerID'\n",
       "\\item 'Gender'\n",
       "\\item 'Age'\n",
       "\\item 'Annual.Income..k..'\n",
       "\\item 'Spending.Score..1.100.'\n",
       "\\end{enumerate*}\n"
      ],
      "text/markdown": [
       "1. 'CustomerID'\n",
       "2. 'Gender'\n",
       "3. 'Age'\n",
       "4. 'Annual.Income..k..'\n",
       "5. 'Spending.Score..1.100.'\n",
       "\n",
       "\n"
      ],
      "text/plain": [
       "[1] \"CustomerID\"             \"Gender\"                 \"Age\"                   \n",
       "[4] \"Annual.Income..k..\"     \"Spending.Score..1.100.\""
      ]
     },
     "metadata": {},
     "output_type": "display_data"
    },
    {
     "data": {
      "text/html": [
       "<table>\n",
       "<caption>A data.frame: 6 × 5</caption>\n",
       "<thead>\n",
       "\t<tr><th></th><th scope=col>CustomerID</th><th scope=col>Gender</th><th scope=col>Age</th><th scope=col>Annual.Income..k..</th><th scope=col>Spending.Score..1.100.</th></tr>\n",
       "\t<tr><th></th><th scope=col>&lt;int&gt;</th><th scope=col>&lt;fct&gt;</th><th scope=col>&lt;int&gt;</th><th scope=col>&lt;int&gt;</th><th scope=col>&lt;int&gt;</th></tr>\n",
       "</thead>\n",
       "<tbody>\n",
       "\t<tr><th scope=row>1</th><td>1</td><td>Male  </td><td>19</td><td>15</td><td>39</td></tr>\n",
       "\t<tr><th scope=row>2</th><td>2</td><td>Male  </td><td>21</td><td>15</td><td>81</td></tr>\n",
       "\t<tr><th scope=row>3</th><td>3</td><td>Female</td><td>20</td><td>16</td><td> 6</td></tr>\n",
       "\t<tr><th scope=row>4</th><td>4</td><td>Female</td><td>23</td><td>16</td><td>77</td></tr>\n",
       "\t<tr><th scope=row>5</th><td>5</td><td>Female</td><td>31</td><td>17</td><td>40</td></tr>\n",
       "\t<tr><th scope=row>6</th><td>6</td><td>Female</td><td>22</td><td>17</td><td>76</td></tr>\n",
       "</tbody>\n",
       "</table>\n"
      ],
      "text/latex": [
       "A data.frame: 6 × 5\n",
       "\\begin{tabular}{r|lllll}\n",
       "  & CustomerID & Gender & Age & Annual.Income..k.. & Spending.Score..1.100.\\\\\n",
       "  & <int> & <fct> & <int> & <int> & <int>\\\\\n",
       "\\hline\n",
       "\t1 & 1 & Male   & 19 & 15 & 39\\\\\n",
       "\t2 & 2 & Male   & 21 & 15 & 81\\\\\n",
       "\t3 & 3 & Female & 20 & 16 &  6\\\\\n",
       "\t4 & 4 & Female & 23 & 16 & 77\\\\\n",
       "\t5 & 5 & Female & 31 & 17 & 40\\\\\n",
       "\t6 & 6 & Female & 22 & 17 & 76\\\\\n",
       "\\end{tabular}\n"
      ],
      "text/markdown": [
       "\n",
       "A data.frame: 6 × 5\n",
       "\n",
       "| <!--/--> | CustomerID &lt;int&gt; | Gender &lt;fct&gt; | Age &lt;int&gt; | Annual.Income..k.. &lt;int&gt; | Spending.Score..1.100. &lt;int&gt; |\n",
       "|---|---|---|---|---|---|\n",
       "| 1 | 1 | Male   | 19 | 15 | 39 |\n",
       "| 2 | 2 | Male   | 21 | 15 | 81 |\n",
       "| 3 | 3 | Female | 20 | 16 |  6 |\n",
       "| 4 | 4 | Female | 23 | 16 | 77 |\n",
       "| 5 | 5 | Female | 31 | 17 | 40 |\n",
       "| 6 | 6 | Female | 22 | 17 | 76 |\n",
       "\n"
      ],
      "text/plain": [
       "  CustomerID Gender Age Annual.Income..k.. Spending.Score..1.100.\n",
       "1 1          Male   19  15                 39                    \n",
       "2 2          Male   21  15                 81                    \n",
       "3 3          Female 20  16                  6                    \n",
       "4 4          Female 23  16                 77                    \n",
       "5 5          Female 31  17                 40                    \n",
       "6 6          Female 22  17                 76                    "
      ]
     },
     "metadata": {},
     "output_type": "display_data"
    },
    {
     "data": {
      "text/plain": [
       "   Min. 1st Qu.  Median    Mean 3rd Qu.    Max. \n",
       "  18.00   28.75   36.00   38.85   49.00   70.00 "
      ]
     },
     "metadata": {},
     "output_type": "display_data"
    }
   ],
   "source": [
    "customer_data=read.csv(\"Mall_Customers.csv\")\n",
    "str(customer_data)\n",
    "names(customer_data)\n",
    "head(customer_data)\n",
    "summary(customer_data$Age)"
   ]
  },
  {
   "cell_type": "code",
   "execution_count": null,
   "metadata": {},
   "outputs": [],
   "source": [
    "customer_data=read.csv(\"/Users/Admin/Downloads/customer-segmentation-dataset/Mall_Customers.csv\")\n",
    "str(customer_data)\n",
    "names(customer_data)\n",
    "head(customer_data)\n",
    "summary(customer_data$Age)\n",
    "\n",
    "sd(customer_data$Age)\n",
    "summary(customer_data$Annual.Income..k..)\n",
    "sd(customer_data$Annual.Income..k..)\n",
    "summary(customer_data$Age)\n",
    "sd(customer_data$Spending.Score..1.100.)\n",
    "\n",
    "a=table(customer_data$Gender)\n",
    "barplot(a,main=\"Grafico a barre per comparazione genere\",\n",
    "        ylab=\"Quantità\",\n",
    "        xlab=\"Genere\",\n",
    "        col=rainbow(2),\n",
    "        legend=rownames(a))\n",
    "\n",
    "pct=round(a/sum(a)*100)\n",
    "lbs=paste(c(\"Donne\",\"Uomini\"),\" \",pct,\"%\",sep=\" \")\n",
    "library(plotrix)\n",
    "pie3D(a,labels=lbs,\n",
    "      main=\"Grafico a torta ratio uomini e donne\")\n",
    "\n",
    "hist(customer_data$Age,\n",
    "     col=\"blue\",\n",
    "     main=\"Istogramma per classi di età\",\n",
    "     xlab=\"Classe età\",\n",
    "     ylab=\"Frequenza\",\n",
    "     labels=TRUE)\n",
    "\n",
    "boxplot(customer_data$Age,\n",
    "        col=\"red\",\n",
    "        main=\"Boxplot per descrizione analisi dell'età\")\n",
    "\n",
    "summary(customer_data$Annual.Income..k..)\n",
    "hist(customer_data$Annual.Income..k..,\n",
    "     col=\"#660033\",\n",
    "     main=\"Istogramma del reddito annuale\",\n",
    "     xlab=\"Classe di reddito annuale\",\n",
    "     ylab=\"Frequenza\",\n",
    "     labels=TRUE)\n",
    "\n",
    "plot(density(customer_data$Annual.Income..k..),\n",
    "     col=\"yellow\",\n",
    "     main=\"Grafico di intensità per reddito anuale\",\n",
    "     xlab=\"Classe di reddito annuale\",\n",
    "     ylab=\"Densità\")\n",
    "polygon(density(customer_data$Annual.Income..k..),\n",
    "        col=\"#ccff66\")\n",
    "\n",
    "summary(customer_data$Spending.Score..1.100.)\n",
    "\n",
    "\n",
    "boxplot(customer_data$Spending.Score..1.100.,\n",
    "        horizontal=TRUE,\n",
    "        col=\"#990000\",\n",
    "        main=\"BoxPlot per l'analisi descrittiva del punteggio di spesa\")\n",
    "\n",
    "hist(customer_data$Spending.Score..1.100.,\n",
    "     main=\"Istogramma per il punteggio di spesa\",\n",
    "     xlab=\"Classe di punteggio di spesa\",\n",
    "     ylab=\"Frequenza\",\n",
    "     col=\"#6600cc\",\n",
    "     labels=TRUE)\n",
    "\n",
    "library(purrr)\n",
    "set.seed(123)\n",
    "# function to calculate total intra-cluster sum of square\n",
    "iss <- function(k) {\n",
    "  kmeans(customer_data[,3:5],k,iter.max=100,nstart=100,algorithm=\"Lloyd\" )$tot.withinss\n",
    "}\n",
    "k.values <- 1:10\n",
    "iss_values <- map_dbl(k.values, iss)\n",
    "plot(k.values, iss_values,\n",
    "     type=\"b\", pch = 19, frame = FALSE,\n",
    "     xlab=\"Number of clusters K\",\n",
    "     ylab=\"Total intra-clusters sum of squares\")\n",
    "\n",
    "library(cluster) \n",
    "library(gridExtra)\n",
    "library(grid)\n",
    "\n",
    "\n",
    "k2<-kmeans(customer_data[,3:5],2,iter.max=100,nstart=50,algorithm=\"Lloyd\")\n",
    "s2<-plot(silhouette(k2$cluster,dist(customer_data[,3:5],\"euclidean\")))\n",
    "\n",
    "k3<-kmeans(customer_data[,3:5],3,iter.max=100,nstart=50,algorithm=\"Lloyd\")\n",
    "s3<-plot(silhouette(k3$cluster,dist(customer_data[,3:5],\"euclidean\")))\n",
    "\n",
    "k4<-kmeans(customer_data[,3:5],4,iter.max=100,nstart=50,algorithm=\"Lloyd\")\n",
    "s4<-plot(silhouette(k4$cluster,dist(customer_data[,3:5],\"euclidean\")))\n",
    "k5<-kmeans(customer_data[,3:5],5,iter.max=100,nstart=50,algorithm=\"Lloyd\")\n",
    "s5<-plot(silhouette(k5$cluster,dist(customer_data[,3:5],\"euclidean\")))\n",
    "k6<-kmeans(customer_data[,3:5],6,iter.max=100,nstart=50,algorithm=\"Lloyd\")\n",
    "s6<-plot(silhouette(k6$cluster,dist(customer_data[,3:5],\"euclidean\")))\n",
    "k7<-kmeans(customer_data[,3:5],7,iter.max=100,nstart=50,algorithm=\"Lloyd\")\n",
    "s7<-plot(silhouette(k7$cluster,dist(customer_data[,3:5],\"euclidean\")))\n",
    "k8<-kmeans(customer_data[,3:5],8,iter.max=100,nstart=50,algorithm=\"Lloyd\")\n",
    "s8<-plot(silhouette(k8$cluster,dist(customer_data[,3:5],\"euclidean\")))\n",
    "k9<-kmeans(customer_data[,3:5],9,iter.max=100,nstart=50,algorithm=\"Lloyd\")\n",
    "s9<-plot(silhouette(k9$cluster,dist(customer_data[,3:5],\"euclidean\")))\n",
    "k10<-kmeans(customer_data[,3:5],10,iter.max=100,nstart=50,algorithm=\"Lloyd\")\n",
    "s10<-plot(silhouette(k10$cluster,dist(customer_data[,3:5],\"euclidean\")))\n",
    "\n",
    "library(NbClust)\n",
    "library(factoextra)\n",
    "\n",
    "fviz_nbclust(customer_data[,3:5], kmeans, method = \"silhouette\")\n",
    "set.seed(125)\n",
    "stat_gap <- clusGap(customer_data[,3:5], FUN = kmeans, nstart = 25,\n",
    "                    K.max = 10, B = 50)\n",
    "fviz_gap_stat(stat_gap)\n",
    "pcclust=prcomp(customer_data[,3:5],scale=FALSE) #principal component analysis\n",
    "summary(pcclust)\n",
    "\n",
    "pcclust$rotation[,1:2]\n",
    "set.seed(1)\n",
    "ggplot(customer_data, aes(x =Annual.Income..k.., y = Spending.Score..1.100.)) + \n",
    "  geom_point(stat = \"identity\", aes(color = as.factor(k6$cluster))) +\n",
    "  scale_color_discrete(name=\" \",\n",
    "                       breaks=c(\"1\", \"2\", \"3\", \"4\", \"5\",\"6\"),\n",
    "                       labels=c(\"Cluster 1\", \"Cluster 2\", \"Cluster 3\", \"Cluster 4\", \"Cluster 5\",\"Cluster 6\")) +\n",
    "  ggtitle(\"Segments of Mall Customers\", subtitle = \"Using K-means Clustering\")\n",
    "\n",
    "\n",
    "ggplot(customer_data, aes(x =Spending.Score..1.100., y =Age)) + \n",
    "  geom_point(stat = \"identity\", aes(color = as.factor(k6$cluster))) +\n",
    "  scale_color_discrete(name=\" \",\n",
    "                       breaks=c(\"1\", \"2\", \"3\", \"4\", \"5\",\"6\"),\n",
    "                       labels=c(\"Cluster 1\", \"Cluster 2\", \"Cluster 3\", \"Cluster 4\", \"Cluster 5\",\"Cluster 6\")) +\n",
    "  ggtitle(\"Segments of Mall Customers\", subtitle = \"Using K-means Clustering\")\n",
    "\n",
    "\n",
    "kCols=function(vec){cols=rainbow (length (unique (vec)))\n",
    "return (cols[as.numeric(as.factor(vec))])}\n",
    "\n",
    "digCluster<-k6$cluster; dignm<-as.character(digCluster); # K-means clusters\n",
    "\n",
    "plot(pcclust$x[,1:2], col =kCols(digCluster),pch =19,xlab =\"K-means\",ylab=\"classes\")\n",
    "legend(\"bottomleft\",unique(dignm),fill=unique(kCols(digCluster)))\n",
    "\n"
   ]
  }
 ],
 "metadata": {
  "kernelspec": {
   "display_name": "R",
   "language": "R",
   "name": "ir"
  },
  "language_info": {
   "codemirror_mode": "r",
   "file_extension": ".r",
   "mimetype": "text/x-r-source",
   "name": "R",
   "pygments_lexer": "r",
   "version": "3.6.2"
  }
 },
 "nbformat": 4,
 "nbformat_minor": 2
}
